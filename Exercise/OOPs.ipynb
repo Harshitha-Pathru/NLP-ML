{
 "cells": [
  {
   "cell_type": "markdown",
   "metadata": {},
   "source": [
    "## Lesson: Creating and Working with Classes and Objects\n",
    "#### Assignment 1: Basic Class and Object Creation\n",
    "#### Assignment 2: Methods in Class"
   ]
  },
  {
   "cell_type": "code",
   "execution_count": 4,
   "metadata": {},
   "outputs": [
    {
     "name": "stdout",
     "output_type": "stream",
     "text": [
      "Audi\n",
      "Tensor345\n",
      "2003\n",
      "Audi's engine started now !!!\n"
     ]
    }
   ],
   "source": [
    "class Car:\n",
    "    def __init__(self,make,model,year):\n",
    "        self.make=make\n",
    "        self.model=model\n",
    "        self.year=year\n",
    "    def start_engine(self):\n",
    "        print(f'{self.make}\\'s engine started now !!!')\n",
    "\n",
    "Audi=Car('Audi','Tensor345',2003)\n",
    "print(Audi.make)\n",
    "print(Audi.model)\n",
    "print(Audi.year)\n",
    "Audi.start_engine()"
   ]
  },
  {
   "cell_type": "markdown",
   "metadata": {},
   "source": [
    "### Assignment 3: Class with Constructor\n"
   ]
  },
  {
   "cell_type": "code",
   "execution_count": 7,
   "metadata": {},
   "outputs": [
    {
     "name": "stdout",
     "output_type": "stream",
     "text": [
      " The student name is Harshitha , age is 23\n"
     ]
    }
   ],
   "source": [
    "class Student:\n",
    "    def __init__(self,name,age):\n",
    "        self.name=name\n",
    "        self.age=age\n",
    "    def details(self):\n",
    "        print(f' The student name is {self.name} , age is {self.age}')\n",
    "student1=Student('Harshitha',23)\n",
    "student1.details()\n",
    "\n"
   ]
  },
  {
   "cell_type": "markdown",
   "metadata": {},
   "source": [
    "### Assignment 4: Class with Private Attributes"
   ]
  },
  {
   "cell_type": "code",
   "execution_count": 34,
   "metadata": {},
   "outputs": [
    {
     "name": "stdout",
     "output_type": "stream",
     "text": [
      "Rs.5000 has been deposited successfully. Here is the balance in the account 15000\n",
      "Harshitha,The amount has been withdrawn successfully. Here is your remaining balance Rs.10000\n"
     ]
    },
    {
     "data": {
      "text/plain": [
       "'Balance against account number 123456789 you are holding is Rs.10000'"
      ]
     },
     "execution_count": 34,
     "metadata": {},
     "output_type": "execute_result"
    }
   ],
   "source": [
    "class BankAccount:\n",
    "    def __init__(self,name,accountNumber,balance,amount):\n",
    "        self.name=name\n",
    "        self.__accountNumber=accountNumber\n",
    "        self.__balance=balance\n",
    "        self.amount=amount\n",
    "    def get_accountNumber(self):\n",
    "        return self.accountNumber\n",
    "    def deposit(self):\n",
    "        try :\n",
    "            if self.amount==0 :\n",
    "                print(f'{self.name}, Please enter amount ')\n",
    "            else:\n",
    "                self.__balance+=self.amount\n",
    "                print(f'Rs.{self.amount} has been deposited successfully. Here is the balance in the account {self.__balance}')\n",
    "        \n",
    "        except Exception as e:\n",
    "            print(f'{self.name}, Please enter amount properly')\n",
    "        \n",
    "         \n",
    "    def withdraw(self):\n",
    "        try :\n",
    "            if   self.amount==0 :\n",
    "                 print(f'{self.name}, Please enter amount ')\n",
    "            elif self.__balance<self.amount:\n",
    "                print (f'{self.name},You dont have sufficient balance to withdraw the required amount')\n",
    "            else:\n",
    "                self.__balance-=self.amount\n",
    "                print(f'{self.name},The amount has been withdrawn successfully. Here is your remaining balance Rs.{self.__balance}')\n",
    "            \n",
    "        except Exception as e:\n",
    "            print(\"Please enter amount properly\")\n",
    "       \n",
    "    def check_balance(self):\n",
    "         return f'Balance against account number {self.__accountNumber} you are holding is Rs.{self.__balance}'\n",
    "\n",
    "accountHolder=BankAccount(\"Harshitha\",'123456789',10000,5000)\n",
    "accountHolder.deposit()\n",
    "accountHolder.withdraw()\n",
    "accountHolder.check_balance()\n",
    "\n",
    "\n",
    "\n"
   ]
  },
  {
   "cell_type": "markdown",
   "metadata": {},
   "source": [
    "### Assignment 5: Class Inheritance\n"
   ]
  },
  {
   "cell_type": "code",
   "execution_count": 35,
   "metadata": {},
   "outputs": [
    {
     "name": "stdout",
     "output_type": "stream",
     "text": [
      "Harshitha 's age is 23 and ID is 215578\n"
     ]
    }
   ],
   "source": [
    "class Person:\n",
    "    def __init__(self,name,age):\n",
    "        self.name=name\n",
    "        self.age=age\n",
    "class Employee(Person):\n",
    "    def __init__(self,name,age,employee_id):\n",
    "        super().__init__(name,age)\n",
    "        self.employee_id=employee_id\n",
    "employee1=Employee('Harshitha',23,'215578')\n",
    "print(f'{employee1.name} \\'s age is {employee1.age} and ID is {employee1.employee_id}')\n"
   ]
  },
  {
   "cell_type": "markdown",
   "metadata": {},
   "source": [
    "### Assignment 6: Method Overriding\n"
   ]
  },
  {
   "cell_type": "code",
   "execution_count": 44,
   "metadata": {},
   "outputs": [
    {
     "name": "stdout",
     "output_type": "stream",
     "text": [
      "(name : Harshitha, age : 23, employee_id : 215578)\n"
     ]
    }
   ],
   "source": [
    "class Person:\n",
    "    def __init__(self,name,age):\n",
    "        self.name=name\n",
    "        self.age=age\n",
    "class Employee(Person):\n",
    "    def __init__(self,name,age,employee_id):\n",
    "        super().__init__(name,age)\n",
    "        self.employee_id=employee_id\n",
    "    def __str__(self):\n",
    "        return f'(name : {self.name}, age : {self.age}, employee_id : {self.employee_id})'\n",
    "        \n",
    "employee1=Employee('Harshitha',23,'215578')\n",
    "print(employee1)"
   ]
  },
  {
   "cell_type": "code",
   "execution_count": null,
   "metadata": {},
   "outputs": [],
   "source": []
  }
 ],
 "metadata": {
  "kernelspec": {
   "display_name": "Python 3",
   "language": "python",
   "name": "python3"
  },
  "language_info": {
   "codemirror_mode": {
    "name": "ipython",
    "version": 3
   },
   "file_extension": ".py",
   "mimetype": "text/x-python",
   "name": "python",
   "nbconvert_exporter": "python",
   "pygments_lexer": "ipython3",
   "version": "3.12.2"
  }
 },
 "nbformat": 4,
 "nbformat_minor": 2
}
