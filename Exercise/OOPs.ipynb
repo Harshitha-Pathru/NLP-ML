{
 "cells": [
  {
   "cell_type": "markdown",
   "metadata": {},
   "source": [
    "## Lesson: Creating and Working with Classes and Objects\n",
    "#### Assignment 1: Basic Class and Object Creation\n",
    "#### Assignment 2: Methods in Class"
   ]
  },
  {
   "cell_type": "code",
   "execution_count": 4,
   "metadata": {},
   "outputs": [
    {
     "name": "stdout",
     "output_type": "stream",
     "text": [
      "Audi\n",
      "Tensor345\n",
      "2003\n",
      "Audi's engine started now !!!\n"
     ]
    }
   ],
   "source": [
    "class Car:\n",
    "    def __init__(self,make,model,year):\n",
    "        self.make=make\n",
    "        self.model=model\n",
    "        self.year=year\n",
    "    def start_engine(self):\n",
    "        print(f'{self.make}\\'s engine started now !!!')\n",
    "\n",
    "Audi=Car('Audi','Tensor345',2003)\n",
    "print(Audi.make)\n",
    "print(Audi.model)\n",
    "print(Audi.year)\n",
    "Audi.start_engine()"
   ]
  },
  {
   "cell_type": "markdown",
   "metadata": {},
   "source": [
    "### Assignment 3: Class with Constructor\n"
   ]
  },
  {
   "cell_type": "code",
   "execution_count": 7,
   "metadata": {},
   "outputs": [
    {
     "name": "stdout",
     "output_type": "stream",
     "text": [
      " The student name is Harshitha , age is 23\n"
     ]
    }
   ],
   "source": [
    "class Student:\n",
    "    def __init__(self,name,age):\n",
    "        self.name=name\n",
    "        self.age=age\n",
    "    def details(self):\n",
    "        print(f' The student name is {self.name} , age is {self.age}')\n",
    "student1=Student('Harshitha',23)\n",
    "student1.details()\n",
    "\n"
   ]
  },
  {
   "cell_type": "markdown",
   "metadata": {},
   "source": [
    "### Assignment 4: Class with Private Attributes"
   ]
  },
  {
   "cell_type": "code",
   "execution_count": 34,
   "metadata": {},
   "outputs": [
    {
     "name": "stdout",
     "output_type": "stream",
     "text": [
      "Rs.5000 has been deposited successfully. Here is the balance in the account 15000\n",
      "Harshitha,The amount has been withdrawn successfully. Here is your remaining balance Rs.10000\n"
     ]
    },
    {
     "data": {
      "text/plain": [
       "'Balance against account number 123456789 you are holding is Rs.10000'"
      ]
     },
     "execution_count": 34,
     "metadata": {},
     "output_type": "execute_result"
    }
   ],
   "source": [
    "class BankAccount:\n",
    "    def __init__(self,name,accountNumber,balance,amount):\n",
    "        self.name=name\n",
    "        self.__accountNumber=accountNumber\n",
    "        self.__balance=balance\n",
    "        self.amount=amount\n",
    "    def get_accountNumber(self):\n",
    "        return self.accountNumber\n",
    "    def deposit(self):\n",
    "        try :\n",
    "            if self.amount==0 :\n",
    "                print(f'{self.name}, Please enter amount ')\n",
    "            else:\n",
    "                self.__balance+=self.amount\n",
    "                print(f'Rs.{self.amount} has been deposited successfully. Here is the balance in the account {self.__balance}')\n",
    "        \n",
    "        except Exception as e:\n",
    "            print(f'{self.name}, Please enter amount properly')\n",
    "        \n",
    "         \n",
    "    def withdraw(self):\n",
    "        try :\n",
    "            if   self.amount==0 :\n",
    "                 print(f'{self.name}, Please enter amount ')\n",
    "            elif self.__balance<self.amount:\n",
    "                print (f'{self.name},You dont have sufficient balance to withdraw the required amount')\n",
    "            else:\n",
    "                self.__balance-=self.amount\n",
    "                print(f'{self.name},The amount has been withdrawn successfully. Here is your remaining balance Rs.{self.__balance}')\n",
    "            \n",
    "        except Exception as e:\n",
    "            print(\"Please enter amount properly\")\n",
    "       \n",
    "    def check_balance(self):\n",
    "         return f'Balance against account number {self.__accountNumber} you are holding is Rs.{self.__balance}'\n",
    "\n",
    "accountHolder=BankAccount(\"Harshitha\",'123456789',10000,5000)\n",
    "accountHolder.deposit()\n",
    "accountHolder.withdraw()\n",
    "accountHolder.check_balance()\n",
    "\n",
    "\n",
    "\n"
   ]
  },
  {
   "cell_type": "markdown",
   "metadata": {},
   "source": [
    "### Assignment 5: Class Inheritance\n"
   ]
  },
  {
   "cell_type": "code",
   "execution_count": 35,
   "metadata": {},
   "outputs": [
    {
     "name": "stdout",
     "output_type": "stream",
     "text": [
      "Harshitha 's age is 23 and ID is 215578\n"
     ]
    }
   ],
   "source": [
    "class Person:\n",
    "    def __init__(self,name,age):\n",
    "        self.name=name\n",
    "        self.age=age\n",
    "class Employee(Person):\n",
    "    def __init__(self,name,age,employee_id):\n",
    "        super().__init__(name,age)\n",
    "        self.employee_id=employee_id\n",
    "employee1=Employee('Harshitha',23,'215578')\n",
    "print(f'{employee1.name} \\'s age is {employee1.age} and ID is {employee1.employee_id}')\n"
   ]
  },
  {
   "cell_type": "markdown",
   "metadata": {},
   "source": [
    "### Assignment 6: Method Overriding\n"
   ]
  },
  {
   "cell_type": "code",
   "execution_count": 44,
   "metadata": {},
   "outputs": [
    {
     "name": "stdout",
     "output_type": "stream",
     "text": [
      "(name : Harshitha, age : 23, employee_id : 215578)\n"
     ]
    }
   ],
   "source": [
    "class Person:\n",
    "    def __init__(self,name,age):\n",
    "        self.name=name\n",
    "        self.age=age\n",
    "class Employee(Person):\n",
    "    def __init__(self,name,age,employee_id):\n",
    "        super().__init__(name,age)\n",
    "        self.employee_id=employee_id\n",
    "    def __str__(self):\n",
    "        return f'(name : {self.name}, age : {self.age}, employee_id : {self.employee_id})'\n",
    "        \n",
    "employee1=Employee('Harshitha',23,'215578')\n",
    "print(employee1)"
   ]
  },
  {
   "cell_type": "markdown",
   "metadata": {},
   "source": [
    "\n",
    "### Assignment 7: Class Composition\n"
   ]
  },
  {
   "cell_type": "code",
   "execution_count": 9,
   "metadata": {},
   "outputs": [
    {
     "name": "stdout",
     "output_type": "stream",
     "text": [
      " The address is Harshitha, 23, The address is A1 street, Pune,411033\n"
     ]
    }
   ],
   "source": [
    "class Address:\n",
    "    def __init__(self,street,city,zipcode):\n",
    "        self.street=street\n",
    "        self.city=city\n",
    "        self.zipcode=zipcode\n",
    "    def __str__(self):\n",
    "        return f' The address is {self.street}, {self.city},{self.zipcode}'\n",
    "class Person:\n",
    "    def __init__(self,name,age,address):\n",
    "        self.name=name\n",
    "        self.age=age\n",
    "        self.address=address\n",
    "\n",
    "    def __str__(self):\n",
    "        return f' The address is {self.name}, {self.age},{self.address}'\n",
    "\n",
    "address1=Address(\"A1 street\",\"Pune\",\"411033\")\n",
    "person1=Person('Harshitha',23,address1)\n",
    "print(person1)\n",
    "\n"
   ]
  },
  {
   "cell_type": "markdown",
   "metadata": {},
   "source": [
    "### Assignment 8: Class with Class Variables"
   ]
  },
  {
   "cell_type": "code",
   "execution_count": 22,
   "metadata": {},
   "outputs": [
    {
     "data": {
      "text/plain": [
       "4"
      ]
     },
     "execution_count": 22,
     "metadata": {},
     "output_type": "execute_result"
    }
   ],
   "source": [
    "class Counter:\n",
    "    count=0\n",
    "    def __init__(self):\n",
    "       Counter.count+=1\n",
    "    @classmethod\n",
    "    def get_count(cls):\n",
    "        return cls.count\n",
    "\n",
    "count1=Counter()\n",
    "count2=Counter()\n",
    "count3=Counter()\n",
    "count4=Counter()\n",
    "Counter.get_count()\n",
    "\n",
    "\n",
    "\n"
   ]
  },
  {
   "cell_type": "markdown",
   "metadata": {},
   "source": [
    "### Assignment 9: Static Methods"
   ]
  },
  {
   "cell_type": "code",
   "execution_count": 31,
   "metadata": {},
   "outputs": [
    {
     "name": "stdout",
     "output_type": "stream",
     "text": [
      "9.433981132056603\n",
      "9.433981132056603\n"
     ]
    }
   ],
   "source": [
    "import math\n",
    "class MathOp:\n",
    "    def square_root(number):\n",
    "        print(math.sqrt(number))\n",
    "MathOp.square_root(89)\n",
    "\n",
    "class MathOperations:\n",
    "    @staticmethod\n",
    "    def square_root(number):\n",
    "        print(math.sqrt(number))\n",
    "\n",
    "\n",
    "MathOperations.square_root(89)\n",
    "\n",
    "\n",
    "    "
   ]
  },
  {
   "cell_type": "markdown",
   "metadata": {},
   "source": [
    "### Assignment 10: Class with Properties"
   ]
  },
  {
   "cell_type": "code",
   "execution_count": 40,
   "metadata": {},
   "outputs": [
    {
     "name": "stdout",
     "output_type": "stream",
     "text": [
      "10\n",
      "5\n",
      "Length cannot be negative\n",
      "10\n",
      "5\n"
     ]
    }
   ],
   "source": [
    "class Rectangle:\n",
    "    \n",
    "    def __init__(self,length,width):\n",
    "        self.__length=length\n",
    "        self.__width=width\n",
    "    \n",
    "    @property\n",
    "    def length(self):\n",
    "        return self.__length\n",
    "    @length.setter\n",
    "    def length(self,value):\n",
    "        if value>0:\n",
    "            self.__length=value \n",
    "        else:\n",
    "            raise ValueError('Length cannot be negative')\n",
    "    @property\n",
    "    def width(self):\n",
    "        return self.__width\n",
    "    @width.setter\n",
    "    def width(self,value):\n",
    "        if value > 0 :\n",
    "            self.__width = value\n",
    "        else :\n",
    "            raise ValueError(\"Width cannot be negative\")\n",
    "## Now time for creating object\n",
    "rect=Rectangle(10,5)\n",
    "\n",
    "print(rect.length)\n",
    "print(rect.width)\n",
    "\n",
    "try:\n",
    "    rect.length=-15\n",
    "    rect.widthh=5\n",
    "except ValueError as e:\n",
    "    print(e)\n",
    "\n",
    "print(rect.length)\n",
    "print(rect.width)\n",
    "\n",
    "\n",
    "\n",
    "\n",
    "\n",
    "\n"
   ]
  },
  {
   "cell_type": "markdown",
   "metadata": {},
   "source": [
    "\n",
    "### Assignment 11: Abstract Base Class\n"
   ]
  },
  {
   "cell_type": "code",
   "execution_count": 47,
   "metadata": {},
   "outputs": [
    {
     "name": "stdout",
     "output_type": "stream",
     "text": [
      "113.03999999999999\n",
      "25\n"
     ]
    }
   ],
   "source": [
    "from abc import ABC,abstractmethod\n",
    "\n",
    "class Shape(ABC):\n",
    "    @abstractmethod\n",
    "    def area():\n",
    "        pass\n",
    "class Circle(Shape):\n",
    "    def __init__(self,radius):\n",
    "        self.radius=radius\n",
    "    def area(self):\n",
    "        return 3.14*self.radius*self.radius\n",
    "class Square(Shape):\n",
    "    def __init__(self,length):\n",
    "        self.length=length\n",
    "    def area(self):\n",
    "        return self.length*self.length\n",
    "\n",
    "c=Circle(6)\n",
    "s=Square(5)\n",
    "print(c.area())\n",
    "print(s.area())"
   ]
  },
  {
   "cell_type": "code",
   "execution_count": null,
   "metadata": {},
   "outputs": [],
   "source": []
  }
 ],
 "metadata": {
  "kernelspec": {
   "display_name": "Python 3",
   "language": "python",
   "name": "python3"
  },
  "language_info": {
   "codemirror_mode": {
    "name": "ipython",
    "version": 3
   },
   "file_extension": ".py",
   "mimetype": "text/x-python",
   "name": "python",
   "nbconvert_exporter": "python",
   "pygments_lexer": "ipython3",
   "version": "3.12.2"
  }
 },
 "nbformat": 4,
 "nbformat_minor": 2
}
