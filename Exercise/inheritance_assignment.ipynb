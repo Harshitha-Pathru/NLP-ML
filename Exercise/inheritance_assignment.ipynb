{
 "cells": [
  {
   "cell_type": "markdown",
   "metadata": {},
   "source": [
    "\n",
    "### Assignment 1: Single Inheritance Basic\n"
   ]
  },
  {
   "cell_type": "code",
   "execution_count": 2,
   "metadata": {},
   "outputs": [
    {
     "ename": "TypeError",
     "evalue": "Dog.__init__() missing 2 required positional arguments: 'species' and 'breed'",
     "output_type": "error",
     "traceback": [
      "\u001b[1;31m---------------------------------------------------------------------------\u001b[0m",
      "\u001b[1;31mTypeError\u001b[0m                                 Traceback (most recent call last)",
      "Cell \u001b[1;32mIn[2], line 10\u001b[0m\n\u001b[0;32m      8\u001b[0m         \u001b[38;5;28mself\u001b[39m\u001b[38;5;241m.\u001b[39mbreed\u001b[38;5;241m=\u001b[39mbreed\n\u001b[0;32m      9\u001b[0m animal1\u001b[38;5;241m=\u001b[39mAnimal(\u001b[38;5;124m\"\u001b[39m\u001b[38;5;124mBudy\u001b[39m\u001b[38;5;124m\"\u001b[39m,\u001b[38;5;124m\"\u001b[39m\u001b[38;5;124mDog\u001b[39m\u001b[38;5;124m\"\u001b[39m)\n\u001b[1;32m---> 10\u001b[0m dog1\u001b[38;5;241m=\u001b[39m\u001b[43mDog\u001b[49m\u001b[43m(\u001b[49m\u001b[38;5;124;43m\"\u001b[39;49m\u001b[38;5;124;43mgoldretriver\u001b[39;49m\u001b[38;5;124;43m\"\u001b[39;49m\u001b[43m)\u001b[49m\n\u001b[0;32m     11\u001b[0m \u001b[38;5;28mprint\u001b[39m(dog1\u001b[38;5;241m.\u001b[39mname)\n\u001b[0;32m     12\u001b[0m \u001b[38;5;28mprint\u001b[39m(dog1\u001b[38;5;241m.\u001b[39mspecies)\n",
      "\u001b[1;31mTypeError\u001b[0m: Dog.__init__() missing 2 required positional arguments: 'species' and 'breed'"
     ]
    }
   ],
   "source": [
    "class Animal:\n",
    "    def __init__(self,name:str,species:str):\n",
    "        self.name=name\n",
    "        self.species=species\n",
    "class Dog(Animal):\n",
    "    def __init__(self,name,species,breed):\n",
    "        super().__init__(name,species)\n",
    "        self.breed=breed\n",
    "#animal1=Animal(\"Budy\",\"Dog\")\n",
    "dog1=Dog(\"Budy\",\"Dog\",\"goldretriver\")\n",
    "print(dog1.name)\n",
    "print(dog1.species)\n",
    "print(dog1.breed)\n",
    "        \n",
    "\n",
    "    "
   ]
  },
  {
   "cell_type": "code",
   "execution_count": null,
   "metadata": {},
   "outputs": [],
   "source": []
  }
 ],
 "metadata": {
  "kernelspec": {
   "display_name": "Python 3",
   "language": "python",
   "name": "python3"
  },
  "language_info": {
   "codemirror_mode": {
    "name": "ipython",
    "version": 3
   },
   "file_extension": ".py",
   "mimetype": "text/x-python",
   "name": "python",
   "nbconvert_exporter": "python",
   "pygments_lexer": "ipython3",
   "version": "3.12.2"
  }
 },
 "nbformat": 4,
 "nbformat_minor": 2
}
