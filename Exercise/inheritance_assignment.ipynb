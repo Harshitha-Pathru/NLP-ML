{
 "cells": [
  {
   "cell_type": "markdown",
   "metadata": {},
   "source": [
    "\n",
    "### Assignment 1: Single Inheritance Basic\n",
    "### Assignment 2: Method Overriding in Single Inheritance"
   ]
  },
  {
   "cell_type": "markdown",
   "metadata": {},
   "source": [
    "### Assignment 3: Single Inheritance with Additional Methods"
   ]
  },
  {
   "cell_type": "code",
   "execution_count": 8,
   "metadata": {},
   "outputs": [
    {
     "name": "stdout",
     "output_type": "stream",
     "text": [
      "Buddy is barking loudly\n"
     ]
    }
   ],
   "source": [
    "class Animal:\n",
    "    def __init__(self,name:str,species:str):\n",
    "        self.name=name\n",
    "        self.species=species\n",
    "class Dog(Animal):\n",
    "    def __init__(self,name,species,breed):\n",
    "        super().__init__(name,species)\n",
    "        self.breed=breed\n",
    "    def __str__(self):\n",
    "        return f'Dog( name : {self.name}, species : {self.species}, breed : {self.breed})'\n",
    "    def bark(self):\n",
    "        return f'{self.name} is barking loudly'\n",
    "\n",
    "dog1=Dog(\"Buddy\",\"Canine\",\"Gold Retriever\")\n",
    "#print(dog1)\n",
    "print(dog1.bark())\n",
    "        \n",
    "\n",
    "    "
   ]
  },
  {
   "cell_type": "markdown",
   "metadata": {},
   "source": [
    "### Assignment 4: Multiple Inheritance Basic"
   ]
  },
  {
   "cell_type": "code",
   "execution_count": 12,
   "metadata": {},
   "outputs": [
    {
     "ename": "TypeError",
     "evalue": "Walker.walk() takes 0 positional arguments but 1 was given",
     "output_type": "error",
     "traceback": [
      "\u001b[1;31m---------------------------------------------------------------------------\u001b[0m",
      "\u001b[1;31mTypeError\u001b[0m                                 Traceback (most recent call last)",
      "Cell \u001b[1;32mIn[12], line 10\u001b[0m\n\u001b[0;32m      8\u001b[0m     \u001b[38;5;28;01mpass\u001b[39;00m\n\u001b[0;32m      9\u001b[0m athelete\u001b[38;5;241m=\u001b[39mAthlete()\n\u001b[1;32m---> 10\u001b[0m \u001b[38;5;28mprint\u001b[39m(\u001b[43mathelete\u001b[49m\u001b[38;5;241;43m.\u001b[39;49m\u001b[43mwalk\u001b[49m\u001b[43m(\u001b[49m\u001b[43m)\u001b[49m)\n\u001b[0;32m     11\u001b[0m \u001b[38;5;28mprint\u001b[39m(athelete\u001b[38;5;241m.\u001b[39mrun())\n",
      "\u001b[1;31mTypeError\u001b[0m: Walker.walk() takes 0 positional arguments but 1 was given"
     ]
    }
   ],
   "source": [
    "class Walker:\n",
    "    def walk(self):\n",
    "        return f'walks for several Kilometres'\n",
    "class Runner:\n",
    "    def run(self):\n",
    "        return f' runs for several Kilometres'\n",
    "class Athlete(Walker,Runner):\n",
    "    pass\n",
    "athelete=Athlete()\n",
    "print(athelete.walk())\n",
    "print(athelete.run())\n",
    "\n",
    "    "
   ]
  },
  {
   "cell_type": "code",
   "execution_count": null,
   "metadata": {},
   "outputs": [],
   "source": []
  }
 ],
 "metadata": {
  "kernelspec": {
   "display_name": "Python 3",
   "language": "python",
   "name": "python3"
  },
  "language_info": {
   "codemirror_mode": {
    "name": "ipython",
    "version": 3
   },
   "file_extension": ".py",
   "mimetype": "text/x-python",
   "name": "python",
   "nbconvert_exporter": "python",
   "pygments_lexer": "ipython3",
   "version": "3.12.2"
  }
 },
 "nbformat": 4,
 "nbformat_minor": 2
}
