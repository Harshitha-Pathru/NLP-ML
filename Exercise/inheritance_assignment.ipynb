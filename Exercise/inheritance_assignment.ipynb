{
 "cells": [
  {
   "cell_type": "markdown",
   "metadata": {},
   "source": [
    "\n",
    "### Assignment 1: Single Inheritance Basic\n",
    "### Assignment 2: Method Overriding in Single Inheritance"
   ]
  },
  {
   "cell_type": "code",
   "execution_count": 6,
   "metadata": {},
   "outputs": [
    {
     "name": "stdout",
     "output_type": "stream",
     "text": [
      "Dog( name : Buddy, species : Canine, breed : Gold Retriever)\n",
      "Buddy\n",
      "Canine\n",
      "Gold Retriever\n"
     ]
    }
   ],
   "source": [
    "class Animal:\n",
    "    def __init__(self,name:str,species:str):\n",
    "        self.name=name\n",
    "        self.species=species\n",
    "class Dog(Animal):\n",
    "    def __init__(self,name,species,breed):\n",
    "        super().__init__(name,species)\n",
    "        self.breed=breed\n",
    "    def __str__(self):\n",
    "        return f'Dog( name : {self.name}, species : {self.species}, breed : {self.breed})'\n",
    "dog1=Dog(\"Buddy\",\"Canine\",\"Gold Retriever\")\n",
    "print(dog1)\n",
    "print(dog1.name)\n",
    "print(dog1.species)\n",
    "print(dog1.breed)\n",
    "        \n",
    "\n",
    "    "
   ]
  },
  {
   "cell_type": "code",
   "execution_count": null,
   "metadata": {},
   "outputs": [],
   "source": []
  }
 ],
 "metadata": {
  "kernelspec": {
   "display_name": "Python 3",
   "language": "python",
   "name": "python3"
  },
  "language_info": {
   "codemirror_mode": {
    "name": "ipython",
    "version": 3
   },
   "file_extension": ".py",
   "mimetype": "text/x-python",
   "name": "python",
   "nbconvert_exporter": "python",
   "pygments_lexer": "ipython3",
   "version": "3.12.2"
  }
 },
 "nbformat": 4,
 "nbformat_minor": 2
}
