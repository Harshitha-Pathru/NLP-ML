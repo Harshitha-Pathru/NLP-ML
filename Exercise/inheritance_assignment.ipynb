{
 "cells": [
  {
   "cell_type": "markdown",
   "metadata": {},
   "source": [
    "\n",
    "### Assignment 1: Single Inheritance Basic\n",
    "### Assignment 2: Method Overriding in Single Inheritance"
   ]
  },
  {
   "cell_type": "markdown",
   "metadata": {},
   "source": [
    "### Assignment 3: Single Inheritance with Additional Methods"
   ]
  },
  {
   "cell_type": "code",
   "execution_count": 8,
   "metadata": {},
   "outputs": [
    {
     "name": "stdout",
     "output_type": "stream",
     "text": [
      "Buddy is barking loudly\n"
     ]
    }
   ],
   "source": [
    "class Animal:\n",
    "    def __init__(self,name:str,species:str):\n",
    "        self.name=name\n",
    "        self.species=species\n",
    "class Dog(Animal):\n",
    "    def __init__(self,name,species,breed):\n",
    "        super().__init__(name,species)\n",
    "        self.breed=breed\n",
    "    def __str__(self):\n",
    "        return f'Dog( name : {self.name}, species : {self.species}, breed : {self.breed})'\n",
    "    def bark(self):\n",
    "        return f'{self.name} is barking loudly'\n",
    "\n",
    "dog1=Dog(\"Buddy\",\"Canine\",\"Gold Retriever\")\n",
    "#print(dog1)\n",
    "print(dog1.bark())\n",
    "        \n",
    "\n",
    "    "
   ]
  },
  {
   "cell_type": "markdown",
   "metadata": {},
   "source": [
    "### Assignment 4: Multiple Inheritance Basic\n",
    "### Assignment 5: Method Resolution Order (MRO) in Multiple Inheritance\n",
    "### Assignment 6: Multiple Inheritance with Additional Attributes\n"
   ]
  },
  {
   "cell_type": "code",
   "execution_count": 28,
   "metadata": {},
   "outputs": [
    {
     "name": "stdout",
     "output_type": "stream",
     "text": [
      "walks for several Kilometres\n",
      "Athlete runs faster\n",
      "4\n",
      "None\n"
     ]
    }
   ],
   "source": [
    "class Walker:\n",
    "    def walk(self):\n",
    "        return f'walks for several Kilometres'\n",
    "class Runner:\n",
    "    def run(self):\n",
    "        return f'runs for several Kilometres'\n",
    "class Athlete(Walker,Runner):\n",
    "    def __init__(self,training_hours):\n",
    "        self.training_hours=training_hours\n",
    "    def walk(self):\n",
    "        return super().walk()\n",
    "    def run(self):\n",
    "        return f'Athlete runs faster'\n",
    "    def train(self)->None:\n",
    "        print(self.training_hours)\n",
    "athlete=Athlete(4)\n",
    "print(athlete.walk())\n",
    "print(athlete.run())\n",
    "print(athlete.train())\n",
    "\n",
    "    "
   ]
  },
  {
   "cell_type": "markdown",
   "metadata": {},
   "source": [
    "## Assignment 7: Diamond Problem in Multiple Inheritance"
   ]
  },
  {
   "cell_type": "code",
   "execution_count": 38,
   "metadata": {},
   "outputs": [
    {
     "name": "stdout",
     "output_type": "stream",
     "text": [
      "Show will begin at A section\n"
     ]
    },
    {
     "data": {
      "text/plain": [
       "(__main__.D, __main__.B, __main__.C, __main__.A, object)"
      ]
     },
     "execution_count": 38,
     "metadata": {},
     "output_type": "execute_result"
    }
   ],
   "source": [
    "class A:\n",
    "    def show(self):\n",
    "        print(\"Show will begin at A section\")\n",
    "class B(A):\n",
    "    def show(self):\n",
    "        return super().show()\n",
    "class C(A):\n",
    "    def show(self):\n",
    "        return super().show()\n",
    "class D(B,C):\n",
    "    pass\n",
    "d=D()\n",
    "d.show()\n",
    "D.mro()\n",
    "D.__mro__\n",
    "\n",
    "        \n",
    "    "
   ]
  },
  {
   "cell_type": "markdown",
   "metadata": {},
   "source": [
    "### Assignment 8: Using `super()` in Single Inheritance"
   ]
  },
  {
   "cell_type": "code",
   "execution_count": 42,
   "metadata": {},
   "outputs": [
    {
     "name": "stdout",
     "output_type": "stream",
     "text": [
      " Circle( color : red , radius : 4)\n"
     ]
    }
   ],
   "source": [
    "class Shape():\n",
    "    def __init__(self, color:str)->None:\n",
    "        self.color = color\n",
    "class Circle(Shape):\n",
    "    def __init__(self,color:str,radius:float) ->None:\n",
    "        super().__init__(color)\n",
    "        self.radius = radius\n",
    "    def __str__(self):\n",
    "        return f' Circle( color : {self.color} , radius : {self.radius})'\n",
    "c=Circle('red',4)\n",
    "print(c)\n",
    "\n",
    "\n"
   ]
  },
  {
   "cell_type": "markdown",
   "metadata": {},
   "source": [
    "### Assignment 9: Using `super()` in Multiple Inheritance\n"
   ]
  },
  {
   "cell_type": "code",
   "execution_count": 46,
   "metadata": {},
   "outputs": [
    {
     "name": "stdout",
     "output_type": "stream",
     "text": [
      "Manager(name : Harshitha, employee_id : 2159727)\n"
     ]
    }
   ],
   "source": [
    "class Person:\n",
    "    def __init__(self,name:str):\n",
    "        self.name=name\n",
    "class Employee:\n",
    "    def __init__(self,employee_id : str):\n",
    "        self.employee_id=employee_id\n",
    "class Manager(Person,Employee):\n",
    "    def __init__(self,name,employee_id):\n",
    "        super().__init__(name)\n",
    "        Employee.__init__(self,employee_id)\n",
    "    def __str__(self):\n",
    "        return f'Manager(name : {self.name}, employee_id : {self.employee_id})'\n",
    "m=Manager(\"Harshitha\",\"2159727\")\n",
    "print(m)\n",
    "\n"
   ]
  },
  {
   "cell_type": "markdown",
   "metadata": {},
   "source": [
    "### Assignment 10: Method Overriding and `super()"
   ]
  },
  {
   "cell_type": "code",
   "execution_count": 49,
   "metadata": {},
   "outputs": [
    {
     "name": "stdout",
     "output_type": "stream",
     "text": [
      "Vehicle starts...\n",
      "Car starts...\n"
     ]
    }
   ],
   "source": [
    "class Vehicle:\n",
    "    def start(self):\n",
    "        print(\"Vehicle starts...\")\n",
    "class Car(Vehicle):\n",
    "    def start(self):\n",
    "        super().start()\n",
    "        print(\"Car starts...\")\n",
    "c=Car()\n",
    "c.start()"
   ]
  },
  {
   "cell_type": "markdown",
   "metadata": {},
   "source": [
    "### Assignment 11: Multiple Inheritance with Different Methods"
   ]
  },
  {
   "cell_type": "code",
   "execution_count": 60,
   "metadata": {},
   "outputs": [
    {
     "name": "stdout",
     "output_type": "stream",
     "text": [
      "Flying....\n",
      "Swimming....\n"
     ]
    }
   ],
   "source": [
    "class Flyer:\n",
    "    def fly(self):\n",
    "        print(\"Flying....\")\n",
    "class Swimmer:\n",
    "    def swim(self):\n",
    "        print(\"Swimming....\")\n",
    "class Superhero(Flyer,Swimmer):\n",
    "      pass\n",
    "s=Superhero()\n",
    "s.fly()\n",
    "s.swim()"
   ]
  },
  {
   "cell_type": "code",
   "execution_count": null,
   "metadata": {},
   "outputs": [],
   "source": []
  }
 ],
 "metadata": {
  "kernelspec": {
   "display_name": "Python 3",
   "language": "python",
   "name": "python3"
  },
  "language_info": {
   "codemirror_mode": {
    "name": "ipython",
    "version": 3
   },
   "file_extension": ".py",
   "mimetype": "text/x-python",
   "name": "python",
   "nbconvert_exporter": "python",
   "pygments_lexer": "ipython3",
   "version": "3.12.2"
  }
 },
 "nbformat": 4,
 "nbformat_minor": 2
}
