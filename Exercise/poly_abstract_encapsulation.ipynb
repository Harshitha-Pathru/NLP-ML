{
 "cells": [
  {
   "cell_type": "markdown",
   "metadata": {},
   "source": [
    "### Assignment 1: Polymorphism with Methods\n",
    "### Assignment 2: Polymorphism with Function Arguments"
   ]
  },
  {
   "cell_type": "code",
   "execution_count": 14,
   "metadata": {},
   "outputs": [
    {
     "name": "stdout",
     "output_type": "stream",
     "text": [
      "Area of Circle is 50.24\n",
      "Area of Square : 36\n"
     ]
    }
   ],
   "source": [
    "def describe_object(obj):\n",
    "    return obj.area()\n",
    "\n",
    "class Shape:\n",
    "    def area(self):\n",
    "        pass\n",
    "class Circle(Shape):\n",
    "    def __init__(self,radius):\n",
    "        self.radius=radius\n",
    "    def area(self):\n",
    "        return f'Area of Circle is {3.14*self.radius**2}'\n",
    "class Square(Shape):\n",
    "    def __init__(self,side):\n",
    "        self.side=side\n",
    "    def area(self):\n",
    "        return f'Area of Square : {self.side**2}'\n",
    "circle=Circle(4)\n",
    "square=Square(6)\n",
    "objects=[circle, square]\n",
    "for o in objects:\n",
    "    print (describe_object(o))\n",
    "\n"
   ]
  },
  {
   "cell_type": "markdown",
   "metadata": {},
   "source": [
    "\n",
    "### Assignment 3: Abstract Base Class with Abstract Methods\n",
    "### Assignment 4: Abstract Base Class with Concrete Methods\n"
   ]
  },
  {
   "cell_type": "code",
   "execution_count": 20,
   "metadata": {},
   "outputs": [
    {
     "name": "stdout",
     "output_type": "stream",
     "text": [
      "Car engine starts...\n",
      "Bike engine starts...\n",
      "Diesel\n",
      "Petrol\n"
     ]
    }
   ],
   "source": [
    "from abc import ABC ,abstractmethod\n",
    "\n",
    "class Vehicle(ABC):\n",
    "\n",
    "    @abstractmethod\n",
    "    def start_engine(self):\n",
    "        pass\n",
    "    def fuel_type(self):\n",
    "        return f\"fuel is diesel\"\n",
    "\n",
    "class Car(Vehicle):\n",
    "    \n",
    "    def start_engine(self):\n",
    "        print(\"Car engine starts...\")\n",
    "    def fuel_type(self):\n",
    "        return \"Diesel\"\n",
    "class Bike(Vehicle):\n",
    "    def start_engine(self):\n",
    "        print(\"Bike engine starts...\")\n",
    "    def fuel_type(self):\n",
    "        return \"Petrol\"\n",
    "car=Car()\n",
    "bike=Bike()\n",
    "car.start_engine()\n",
    "bike.start_engine()\n",
    "print(car.fuel_type())\n",
    "print(bike.fuel_type())\n"
   ]
  },
  {
   "cell_type": "markdown",
   "metadata": {},
   "source": [
    "### Assignment 5: Encapsulation with Private Attributes\n",
    "### Assignment 6: Encapsulation with Property Decorators"
   ]
  },
  {
   "cell_type": "code",
   "execution_count": 35,
   "metadata": {},
   "outputs": [
    {
     "name": "stdout",
     "output_type": "stream",
     "text": [
      "78799\n"
     ]
    }
   ],
   "source": [
    "class InsufficientBalanceError(Exception):\n",
    "    pass\n",
    "\n",
    "class BankAccount:\n",
    "    def __init__(self,account_number : str,balance : float):\n",
    "        self.__account_number = account_number\n",
    "        self.__balance = balance\n",
    "    @property\n",
    "    def balance(self):\n",
    "        return self.__balance\n",
    "    @balance.setter\n",
    "    def balance(self,value=5000):\n",
    "        if value < 0:\n",
    "            print(\"Please provide valid amount\")\n",
    "        else:\n",
    "            self.__balance =value\n",
    "\n",
    "    @property\n",
    "    def account_number(self):\n",
    "        return self.__accountnumber\n",
    "\n",
    "    def __str__(self):\n",
    "        return f\"BankAccount =(account_number : {self.__account_number}, balance :{self.__balance})\"\n",
    "    def deposit(self,amount):\n",
    "        if amount < 0:\n",
    "            print(\"Please enter valid amount to deposit.\")\n",
    "        else:\n",
    "            self.__balance += amount\n",
    "    def withdraw(self,amount):\n",
    "        try:\n",
    "            if self.__balance < amount :\n",
    "                raise InsufficientBalanceError(\"You dont want have enough money in the account to withdraw \")\n",
    "            else:\n",
    "                self.__balance -= amount\n",
    "        except InsufficientBalanceError as e: \n",
    "            print(e)\n",
    "    def check_balance(self):\n",
    "        return self.__balance\n",
    "\n",
    "\n",
    "account=BankAccount(\"7826371268\", \"78799\")  \n",
    "print(account.balance)\n",
    "\n"
   ]
  },
  {
   "cell_type": "markdown",
   "metadata": {},
   "source": [
    "### Assignment 7: Combining Encapsulation and Inheritance"
   ]
  },
  {
   "cell_type": "code",
   "execution_count": 44,
   "metadata": {},
   "outputs": [
    {
     "name": "stdout",
     "output_type": "stream",
     "text": [
      "Student( name:Harshitha, age:23, student_id:18131A04G1\n"
     ]
    }
   ],
   "source": [
    "class Person:\n",
    "    def __init__(self,name,age):\n",
    "        self.__name=name\n",
    "        self.__age=age\n",
    "    @property\n",
    "    def name(self):\n",
    "        return self.__name\n",
    "    @name.setter\n",
    "    def name(self, person_name):\n",
    "        self.__name=person_name\n",
    "    @property\n",
    "    def age(self):\n",
    "        return self.__age\n",
    "    @age.setter\n",
    "    def age(self, person_age):\n",
    "        self.__age=person_age\n",
    "class Student(Person):\n",
    "    def __init__(self,name,age,student_id):\n",
    "        self.student_id=student_id\n",
    "        super().__init__(name,age)\n",
    "        \n",
    "    def __str__(self):\n",
    "        return f\"Student( name:{self.name}, age:{self.age}, student_id:{self.student_id}\"\n",
    "student1=Student(\"Harshitha\",23,\"18131A04G1\")   \n",
    "print(student1)"
   ]
  },
  {
   "cell_type": "code",
   "execution_count": null,
   "metadata": {},
   "outputs": [],
   "source": []
  }
 ],
 "metadata": {
  "kernelspec": {
   "display_name": "Python 3",
   "language": "python",
   "name": "python3"
  },
  "language_info": {
   "codemirror_mode": {
    "name": "ipython",
    "version": 3
   },
   "file_extension": ".py",
   "mimetype": "text/x-python",
   "name": "python",
   "nbconvert_exporter": "python",
   "pygments_lexer": "ipython3",
   "version": "3.12.2"
  }
 },
 "nbformat": 4,
 "nbformat_minor": 2
}
